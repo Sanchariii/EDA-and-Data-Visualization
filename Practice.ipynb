{
  "nbformat": 4,
  "nbformat_minor": 0,
  "metadata": {
    "colab": {
      "provenance": []
    },
    "kernelspec": {
      "name": "python3",
      "display_name": "Python 3"
    },
    "language_info": {
      "name": "python"
    }
  },
  "cells": [
    {
      "cell_type": "code",
      "execution_count": 3,
      "metadata": {
        "colab": {
          "base_uri": "https://localhost:8080/"
        },
        "id": "G-7zeiCBKnWZ",
        "outputId": "71fedd22-046f-4b26-fba7-ef4d5b4f7da2"
      },
      "outputs": [
        {
          "output_type": "stream",
          "name": "stdout",
          "text": [
            "What is your name : Sanchari\n",
            "Hello Sanchari\n",
            "Welcome\n"
          ]
        }
      ],
      "source": [
        "Firstname = \"Tony\"\n",
        "Lastname = \"Stark\"\n",
        "age = 51\n",
        "is_genius = True\n",
        "\n",
        "name  = input(\"What is your name : \")\n",
        "print(\"Hello \" + name)\n",
        "print(\"Welcome\")\n"
      ]
    },
    {
      "cell_type": "code",
      "source": [
        "first = input(\"First number : \")\n",
        "second = input(\"Second num: \")\n",
        "\n",
        "sum1 = first + second #string\n",
        "sum2 =int(first) + int(second)\n",
        "print(sum1)\n",
        "print(sum2)"
      ],
      "metadata": {
        "colab": {
          "base_uri": "https://localhost:8080/"
        },
        "id": "cffifT9FMflu",
        "outputId": "30b9e563-4a67-497d-99f4-252aee25c93c"
      },
      "execution_count": 6,
      "outputs": [
        {
          "output_type": "stream",
          "name": "stdout",
          "text": [
            "First number : 1\n",
            "Second num: 2\n",
            "12\n",
            "3\n"
          ]
        }
      ]
    },
    {
      "cell_type": "code",
      "source": [
        "name = \"Sanchari\"\n",
        "print(name.upper())\n",
        "print(name.find('S'))\n"
      ],
      "metadata": {
        "colab": {
          "base_uri": "https://localhost:8080/"
        },
        "id": "hslAe9y4OReY",
        "outputId": "1363e9a1-ef7a-4015-e571-2220140fc080"
      },
      "execution_count": 8,
      "outputs": [
        {
          "output_type": "stream",
          "name": "stdout",
          "text": [
            "SANCHARI\n",
            "0\n"
          ]
        }
      ]
    },
    {
      "cell_type": "code",
      "source": [
        "name = \"Sanchari Ray\"\n",
        "print(name.replace('S','R'))"
      ],
      "metadata": {
        "colab": {
          "base_uri": "https://localhost:8080/"
        },
        "id": "MCV1_Rudc2yr",
        "outputId": "d2cdf377-9222-4374-9eba-972e1171eb37"
      },
      "execution_count": 10,
      "outputs": [
        {
          "output_type": "stream",
          "name": "stdout",
          "text": [
            "Ranchari Ray\n"
          ]
        }
      ]
    },
    {
      "cell_type": "code",
      "source": [
        "name = \"Sanchari Ray\"\n",
        "print('A' in name)"
      ],
      "metadata": {
        "colab": {
          "base_uri": "https://localhost:8080/"
        },
        "id": "YxM9xzXsddVj",
        "outputId": "5bc2e12c-328d-4c96-db1e-782abc8c3031"
      },
      "execution_count": 12,
      "outputs": [
        {
          "output_type": "stream",
          "name": "stdout",
          "text": [
            "False\n"
          ]
        }
      ]
    },
    {
      "cell_type": "code",
      "source": [
        "#operators\n",
        "print(5+2)\n"
      ],
      "metadata": {
        "colab": {
          "base_uri": "https://localhost:8080/"
        },
        "id": "RodhWrGZd_bQ",
        "outputId": "248645f2-298f-4d30-bf33-11cec42f1063"
      },
      "execution_count": 13,
      "outputs": [
        {
          "output_type": "stream",
          "name": "stdout",
          "text": [
            "7\n"
          ]
        }
      ]
    },
    {
      "cell_type": "code",
      "source": [
        "print(5//2) #only integer --> //"
      ],
      "metadata": {
        "colab": {
          "base_uri": "https://localhost:8080/"
        },
        "id": "4KK8mKIweOA7",
        "outputId": "19b4e09f-2241-4d0a-b976-3c2d57524aee"
      },
      "execution_count": 14,
      "outputs": [
        {
          "output_type": "stream",
          "name": "stdout",
          "text": [
            "2\n"
          ]
        }
      ]
    },
    {
      "cell_type": "code",
      "source": [
        "print(5**2) #5 to the power 2"
      ],
      "metadata": {
        "colab": {
          "base_uri": "https://localhost:8080/"
        },
        "id": "8nMYFiuQeWyw",
        "outputId": "13b98768-242c-40c2-f09c-3c6bc96eb18d"
      },
      "execution_count": 15,
      "outputs": [
        {
          "output_type": "stream",
          "name": "stdout",
          "text": [
            "25\n"
          ]
        }
      ]
    },
    {
      "cell_type": "code",
      "source": [
        "result = 2+3*5 # * higher precedence\n",
        "print(result)"
      ],
      "metadata": {
        "colab": {
          "base_uri": "https://localhost:8080/"
        },
        "id": "rodW2Hk0emqX",
        "outputId": "476e0da1-0f05-4bc8-8d02-dd519fc69170"
      },
      "execution_count": 17,
      "outputs": [
        {
          "output_type": "stream",
          "name": "stdout",
          "text": [
            "17\n"
          ]
        }
      ]
    },
    {
      "cell_type": "code",
      "source": [
        "print(3>2)\n",
        "print(3<=2)"
      ],
      "metadata": {
        "colab": {
          "base_uri": "https://localhost:8080/"
        },
        "id": "tugmrw43e2JU",
        "outputId": "d63c4dc6-483a-49e3-d4dc-0621c72f4f92"
      },
      "execution_count": 20,
      "outputs": [
        {
          "output_type": "stream",
          "name": "stdout",
          "text": [
            "True\n",
            "False\n"
          ]
        }
      ]
    },
    {
      "cell_type": "code",
      "source": [
        "print(3==2)"
      ],
      "metadata": {
        "colab": {
          "base_uri": "https://localhost:8080/"
        },
        "id": "NDcd0CowfKWe",
        "outputId": "2af52324-35ef-4abb-cead-16fa764da244"
      },
      "execution_count": 21,
      "outputs": [
        {
          "output_type": "stream",
          "name": "stdout",
          "text": [
            "False\n"
          ]
        }
      ]
    },
    {
      "cell_type": "code",
      "source": [
        "print(3!=2)"
      ],
      "metadata": {
        "colab": {
          "base_uri": "https://localhost:8080/"
        },
        "id": "TYZ1lwnXfRt2",
        "outputId": "fd7f87ff-4d48-4a21-869b-e3dbe596c944"
      },
      "execution_count": 22,
      "outputs": [
        {
          "output_type": "stream",
          "name": "stdout",
          "text": [
            "True\n"
          ]
        }
      ]
    },
    {
      "cell_type": "code",
      "source": [
        "print(2>3 or 2>1)"
      ],
      "metadata": {
        "colab": {
          "base_uri": "https://localhost:8080/"
        },
        "id": "2YA1O3wyfUSo",
        "outputId": "fd5c40ab-82c1-4270-a9e8-cf852ad8c8c0"
      },
      "execution_count": 23,
      "outputs": [
        {
          "output_type": "stream",
          "name": "stdout",
          "text": [
            "True\n"
          ]
        }
      ]
    },
    {
      "cell_type": "code",
      "source": [
        "print (2>3 and 2>1)"
      ],
      "metadata": {
        "colab": {
          "base_uri": "https://localhost:8080/"
        },
        "id": "5XtMngFKfjZm",
        "outputId": "fa0ec07b-d773-44db-cec8-8d1897d54484"
      },
      "execution_count": 24,
      "outputs": [
        {
          "output_type": "stream",
          "name": "stdout",
          "text": [
            "False\n"
          ]
        }
      ]
    },
    {
      "cell_type": "code",
      "source": [
        "print(not 2>3)"
      ],
      "metadata": {
        "colab": {
          "base_uri": "https://localhost:8080/"
        },
        "id": "JE-VrWAQfocl",
        "outputId": "c8bb17b8-1b3a-4a79-f226-a73aebb0a3c2"
      },
      "execution_count": 25,
      "outputs": [
        {
          "output_type": "stream",
          "name": "stdout",
          "text": [
            "True\n"
          ]
        }
      ]
    },
    {
      "cell_type": "code",
      "source": [
        "# if else statements\n",
        "age = 2\n",
        "if age >= 18:\n",
        "  print(\"You are an adult\")\n",
        "  print(\"You can vote\")\n",
        "elif age < 18 and age > 3:\n",
        "  print(\"You are in school\")\n",
        "else:\n",
        "  print(\"You are a kid\")\n",
        "\n"
      ],
      "metadata": {
        "colab": {
          "base_uri": "https://localhost:8080/"
        },
        "id": "tbcv5PD-fwKR",
        "outputId": "5f87c535-ac24-4753-9e7f-84998864a65e"
      },
      "execution_count": 29,
      "outputs": [
        {
          "output_type": "stream",
          "name": "stdout",
          "text": [
            "You are a kid\n"
          ]
        }
      ]
    },
    {
      "cell_type": "code",
      "source": [
        "# building calculator\n",
        "\n",
        "first = input(\"Enter first number : \")\n",
        "operator = input(\"Enter operator(+,-,/,%) : \")\n",
        "\n",
        "second = input (\"Enter sec num : \")\n",
        "first = int(first)\n",
        "second= int(second)\n",
        "\n",
        "\n",
        "if operator == \"+\":\n",
        "  print(first + second)\n",
        "elif operator == \"-\":\n",
        "  print(first - second)\n",
        "elif operator == \"/\":\n",
        "  print(first / second)\n",
        "elif operator == \"%\":\n",
        "  print(first % second)\n",
        "else:\n",
        "  print(\"Invalid Opeartor.\")\n"
      ],
      "metadata": {
        "colab": {
          "base_uri": "https://localhost:8080/"
        },
        "id": "w31tM1iNf0zT",
        "outputId": "3c136ab8-5b28-4df9-f896-466e74c18743"
      },
      "execution_count": 31,
      "outputs": [
        {
          "output_type": "stream",
          "name": "stdout",
          "text": [
            "Enter first number : 2\n",
            "Enter operator(+,-,/,%) : +\n",
            "Enter sec num : 3\n",
            "5\n"
          ]
        }
      ]
    },
    {
      "cell_type": "code",
      "source": [
        "#range\n",
        "\n",
        "num = range(5)\n",
        "print(num)"
      ],
      "metadata": {
        "colab": {
          "base_uri": "https://localhost:8080/"
        },
        "id": "JhPzScrcgvtY",
        "outputId": "38e2206b-3c0e-44ce-d181-79a726e4d874"
      },
      "execution_count": 33,
      "outputs": [
        {
          "output_type": "stream",
          "name": "stdout",
          "text": [
            "range(0, 5)\n"
          ]
        }
      ]
    },
    {
      "cell_type": "code",
      "source": [
        "#loop\n",
        "\n",
        "i = 1\n",
        "while i <= 100 :\n",
        "  print(i)\n",
        "  i= i+1\n",
        "\n"
      ],
      "metadata": {
        "colab": {
          "base_uri": "https://localhost:8080/"
        },
        "id": "iAAq1twMhthu",
        "outputId": "9a4a62ef-6877-4f1d-e033-c3b93b478cb4"
      },
      "execution_count": 2,
      "outputs": [
        {
          "output_type": "stream",
          "name": "stdout",
          "text": [
            "1\n",
            "2\n",
            "3\n",
            "4\n",
            "5\n",
            "6\n",
            "7\n",
            "8\n",
            "9\n",
            "10\n",
            "11\n",
            "12\n",
            "13\n",
            "14\n",
            "15\n",
            "16\n",
            "17\n",
            "18\n",
            "19\n",
            "20\n",
            "21\n",
            "22\n",
            "23\n",
            "24\n",
            "25\n",
            "26\n",
            "27\n",
            "28\n",
            "29\n",
            "30\n",
            "31\n",
            "32\n",
            "33\n",
            "34\n",
            "35\n",
            "36\n",
            "37\n",
            "38\n",
            "39\n",
            "40\n",
            "41\n",
            "42\n",
            "43\n",
            "44\n",
            "45\n",
            "46\n",
            "47\n",
            "48\n",
            "49\n",
            "50\n",
            "51\n",
            "52\n",
            "53\n",
            "54\n",
            "55\n",
            "56\n",
            "57\n",
            "58\n",
            "59\n",
            "60\n",
            "61\n",
            "62\n",
            "63\n",
            "64\n",
            "65\n",
            "66\n",
            "67\n",
            "68\n",
            "69\n",
            "70\n",
            "71\n",
            "72\n",
            "73\n",
            "74\n",
            "75\n",
            "76\n",
            "77\n",
            "78\n",
            "79\n",
            "80\n",
            "81\n",
            "82\n",
            "83\n",
            "84\n",
            "85\n",
            "86\n",
            "87\n",
            "88\n",
            "89\n",
            "90\n",
            "91\n",
            "92\n",
            "93\n",
            "94\n",
            "95\n",
            "96\n",
            "97\n",
            "98\n",
            "99\n",
            "100\n"
          ]
        }
      ]
    },
    {
      "cell_type": "code",
      "source": [
        "i = 1\n",
        "while i <= 5:\n",
        "  print(i * \"*\")\n",
        "  i=i+1"
      ],
      "metadata": {
        "colab": {
          "base_uri": "https://localhost:8080/"
        },
        "id": "qmGe-cBaiP8E",
        "outputId": "26e8772c-4f4c-41bd-db1b-70a7ea3956e4"
      },
      "execution_count": 3,
      "outputs": [
        {
          "output_type": "stream",
          "name": "stdout",
          "text": [
            "*\n",
            "**\n",
            "***\n",
            "****\n",
            "*****\n"
          ]
        }
      ]
    },
    {
      "cell_type": "code",
      "source": [
        "i =5\n",
        "while i>= 0 :\n",
        "  print(i*\"*\")\n",
        "  i=i-1"
      ],
      "metadata": {
        "colab": {
          "base_uri": "https://localhost:8080/"
        },
        "id": "hqc7hN46iuOB",
        "outputId": "08557f80-d18d-4e53-de74-a276e7b5b4de"
      },
      "execution_count": 4,
      "outputs": [
        {
          "output_type": "stream",
          "name": "stdout",
          "text": [
            "*****\n",
            "****\n",
            "***\n",
            "**\n",
            "*\n",
            "\n"
          ]
        }
      ]
    },
    {
      "cell_type": "code",
      "source": [
        "for i in range(5):\n",
        "  print (i)\n",
        "  print(i+1)"
      ],
      "metadata": {
        "colab": {
          "base_uri": "https://localhost:8080/"
        },
        "id": "a0LcuX6Yi2Gr",
        "outputId": "1ca8d60d-e35b-44f4-8553-82841eb892bc"
      },
      "execution_count": 6,
      "outputs": [
        {
          "output_type": "stream",
          "name": "stdout",
          "text": [
            "0\n",
            "1\n",
            "1\n",
            "2\n",
            "2\n",
            "3\n",
            "3\n",
            "4\n",
            "4\n",
            "5\n"
          ]
        }
      ]
    },
    {
      "cell_type": "code",
      "source": [
        "#list\n",
        "\n",
        "marks = [95, 98, 97,\"maths\"]\n",
        "print(marks[-1])\n",
        "print(marks[0:2])\n",
        "print(marks[1:3])\n",
        "\n",
        "for score in marks:\n",
        "  print(score)"
      ],
      "metadata": {
        "colab": {
          "base_uri": "https://localhost:8080/"
        },
        "id": "xfI3Jja0jAov",
        "outputId": "6cf61672-d178-4cf5-f5e6-b4689b6d9cc5"
      },
      "execution_count": 14,
      "outputs": [
        {
          "output_type": "stream",
          "name": "stdout",
          "text": [
            "maths\n",
            "[95, 98]\n",
            "[98, 97]\n",
            "95\n",
            "98\n",
            "97\n",
            "maths\n"
          ]
        }
      ]
    },
    {
      "cell_type": "code",
      "source": [
        "#list operations\n",
        "\n",
        "marks = [67,66,68,69]\n",
        "marks.append(61)\n",
        "marks.insert(0,99)\n",
        "\n",
        "\n",
        "print(99 in marks)\n",
        "print(len(marks))"
      ],
      "metadata": {
        "colab": {
          "base_uri": "https://localhost:8080/"
        },
        "id": "nr30EvEMjTQo",
        "outputId": "47db3fd2-00ac-43fe-827c-54f56f8a850c"
      },
      "execution_count": 19,
      "outputs": [
        {
          "output_type": "stream",
          "name": "stdout",
          "text": [
            "True\n",
            "6\n"
          ]
        }
      ]
    },
    {
      "cell_type": "code",
      "source": [
        "marks = [67,66,68,69]\n",
        "i=0\n",
        "while i<len(marks):\n",
        "  print(marks[i])\n",
        "  i=i+1\n",
        "\n",
        "marks.clear()\n",
        "print(marks)"
      ],
      "metadata": {
        "colab": {
          "base_uri": "https://localhost:8080/"
        },
        "id": "qLlpHt5YkZ1w",
        "outputId": "f9f9fc88-ebd7-41c1-fd2b-d537d4e255c5"
      },
      "execution_count": 22,
      "outputs": [
        {
          "output_type": "stream",
          "name": "stdout",
          "text": [
            "67\n",
            "66\n",
            "68\n",
            "69\n",
            "[]\n"
          ]
        }
      ]
    },
    {
      "cell_type": "code",
      "source": [
        "# break & continue\n",
        "\n",
        "students =[\"Ram\",\"shan\",\"kishan\",\"radha\",\"radhika\"]\n",
        "\n",
        "for student in students:\n",
        "  if student == \"radha\":\n",
        "    break\n",
        "  print(student)"
      ],
      "metadata": {
        "colab": {
          "base_uri": "https://localhost:8080/"
        },
        "id": "RdNTc2tTk0_A",
        "outputId": "e097ada5-5a20-4413-ca5e-ce2dd5838028"
      },
      "execution_count": 23,
      "outputs": [
        {
          "output_type": "stream",
          "name": "stdout",
          "text": [
            "Ram\n",
            "shan\n",
            "kishan\n"
          ]
        }
      ]
    },
    {
      "cell_type": "code",
      "source": [
        "students =[\"Ram\",\"shan\",\"kishan\",\"radha\",\"radhika\"]\n",
        "\n",
        "for student in students:\n",
        "  if student == \"kishan\":\n",
        "    continue\n",
        "  print(student)"
      ],
      "metadata": {
        "colab": {
          "base_uri": "https://localhost:8080/"
        },
        "id": "ZgrNBG7rlblc",
        "outputId": "c9254c00-7611-4e30-cf31-c74ba5719c68"
      },
      "execution_count": 24,
      "outputs": [
        {
          "output_type": "stream",
          "name": "stdout",
          "text": [
            "Ram\n",
            "shan\n",
            "radha\n",
            "radhika\n"
          ]
        }
      ]
    },
    {
      "cell_type": "code",
      "source": [
        "#tuples\n",
        "\n",
        "marks=(56,32,32,4,90)\n",
        "print(marks.count(32))\n",
        "print(marks.index(4))"
      ],
      "metadata": {
        "colab": {
          "base_uri": "https://localhost:8080/"
        },
        "id": "sofiVNXwlqjN",
        "outputId": "ece0bb65-19fc-4c19-f192-e7a00c5a4275"
      },
      "execution_count": 27,
      "outputs": [
        {
          "output_type": "stream",
          "name": "stdout",
          "text": [
            "2\n",
            "3\n"
          ]
        }
      ]
    },
    {
      "cell_type": "code",
      "source": [
        "#sets\n",
        "\n",
        "marks = {45,6,5,3,3,23}\n",
        "print(marks)\n"
      ],
      "metadata": {
        "colab": {
          "base_uri": "https://localhost:8080/"
        },
        "id": "fXK2xbVMmAku",
        "outputId": "c44d74d7-356b-41cc-ef02-e4f6f2b3bd23"
      },
      "execution_count": 28,
      "outputs": [
        {
          "output_type": "stream",
          "name": "stdout",
          "text": [
            "{3, 5, 6, 23, 45}\n"
          ]
        }
      ]
    },
    {
      "cell_type": "code",
      "source": [
        "marks ={\"english\":95 ,\"chemistry\":90}\n",
        "info = {\"ram\":\"kishan\"}\n",
        "print(marks[\"chemistry\"])\n",
        "\n",
        "marks[\"physics\"] =97\n",
        "print(marks)\n",
        "\n",
        "marks[\"physics\"]=99\n",
        "print(marks)"
      ],
      "metadata": {
        "colab": {
          "base_uri": "https://localhost:8080/"
        },
        "id": "kIACYskfmhHa",
        "outputId": "10a131e7-4eb3-4957-aaaa-f91e509f4178"
      },
      "execution_count": 31,
      "outputs": [
        {
          "output_type": "stream",
          "name": "stdout",
          "text": [
            "90\n",
            "{'english': 95, 'chemistry': 90, 'physics': 97}\n",
            "{'english': 95, 'chemistry': 90, 'physics': 99}\n"
          ]
        }
      ]
    },
    {
      "cell_type": "code",
      "source": [
        "#in-built\n",
        "\n",
        "import math\n",
        "\n",
        "print(dir(math))\n"
      ],
      "metadata": {
        "colab": {
          "base_uri": "https://localhost:8080/"
        },
        "id": "jtHbsTu9nbzP",
        "outputId": "11eb30e0-6b11-4bd5-d7c6-16c0397e0924"
      },
      "execution_count": 32,
      "outputs": [
        {
          "output_type": "stream",
          "name": "stdout",
          "text": [
            "['__doc__', '__loader__', '__name__', '__package__', '__spec__', 'acos', 'acosh', 'asin', 'asinh', 'atan', 'atan2', 'atanh', 'ceil', 'comb', 'copysign', 'cos', 'cosh', 'degrees', 'dist', 'e', 'erf', 'erfc', 'exp', 'expm1', 'fabs', 'factorial', 'floor', 'fmod', 'frexp', 'fsum', 'gamma', 'gcd', 'hypot', 'inf', 'isclose', 'isfinite', 'isinf', 'isnan', 'isqrt', 'lcm', 'ldexp', 'lgamma', 'log', 'log10', 'log1p', 'log2', 'modf', 'nan', 'nextafter', 'perm', 'pi', 'pow', 'prod', 'radians', 'remainder', 'sin', 'sinh', 'sqrt', 'tan', 'tanh', 'tau', 'trunc', 'ulp']\n"
          ]
        }
      ]
    },
    {
      "cell_type": "code",
      "source": [
        "from math import sqrt\n",
        "print(sqrt(4))"
      ],
      "metadata": {
        "colab": {
          "base_uri": "https://localhost:8080/"
        },
        "id": "yKfi9a8DoF1T",
        "outputId": "371c44d8-1d50-4ab5-8263-4b0df8bf09de"
      },
      "execution_count": 33,
      "outputs": [
        {
          "output_type": "stream",
          "name": "stdout",
          "text": [
            "2.0\n"
          ]
        }
      ]
    },
    {
      "cell_type": "code",
      "source": [
        "#functions\n",
        "def print_sum(first,second =4 ):\n",
        "  print (first+second)\n",
        "\n",
        "print_sum(1)\n"
      ],
      "metadata": {
        "colab": {
          "base_uri": "https://localhost:8080/"
        },
        "id": "mXk5EuQuoPVH",
        "outputId": "ff3c2714-7e7f-4ebd-abbc-9e8e03d87b17"
      },
      "execution_count": 35,
      "outputs": [
        {
          "output_type": "stream",
          "name": "stdout",
          "text": [
            "5\n"
          ]
        }
      ]
    },
    {
      "cell_type": "code",
      "source": [
        "#reading files\n",
        "\n",
        "open(\"employess.text\",\"r\")\n",
        "open(\"employess.text\",\"r+\") # read and write\n"
      ],
      "metadata": {
        "id": "CtAlmbCDo0GE"
      },
      "execution_count": null,
      "outputs": []
    }
  ]
}